{
 "cells": [
  {
   "cell_type": "code",
   "execution_count": null,
   "id": "2fc13895",
   "metadata": {},
   "outputs": [],
   "source": [
    "# importando as bibliotes\n",
    "from sklearn.svm import SVC\n",
    "from sklearn.metrics import accuracy_score\n",
    "\n",
    "import pandas as pd\n",
    "import numpy as np\n",
    "\n",
    "import matplotlib.pyplot as plt\n",
    "\n",
    "import warnings"
   ]
  },
  {
   "cell_type": "code",
   "execution_count": null,
   "id": "2baee8b8",
   "metadata": {},
   "outputs": [],
   "source": [
    "#lendo o csv\n",
    "df = pd.read_csv('BDORY.csv')\n",
    "df"
   ]
  },
  {
   "cell_type": "code",
   "execution_count": null,
   "id": "24a65a70",
   "metadata": {},
   "outputs": [],
   "source": [
    "# Alterando a coluna data\n",
    "df.index = pd.to_datetime(df['Date'])\n",
    "df"
   ]
  },
  {
   "cell_type": "code",
   "execution_count": null,
   "id": "392b9c5c",
   "metadata": {},
   "outputs": [],
   "source": [
    "\n",
    "df = df.drop(['Date'], axis='columns')\n",
    "df"
   ]
  },
  {
   "cell_type": "code",
   "execution_count": null,
   "id": "3495dcff",
   "metadata": {},
   "outputs": [],
   "source": [
    "# Criando as variaveis de previsão\n",
    "df['Open-Close'] = df.Open - df.Close\n",
    "df['High-Low'] = df.High - df.Low\n",
    "\n",
    "# Armazenando as variaveis preditoras na variavel X\n",
    "X = df[['Open-Close', 'High-Low']]\n",
    "X.head()"
   ]
  },
  {
   "cell_type": "code",
   "execution_count": null,
   "id": "9256a981",
   "metadata": {},
   "outputs": [],
   "source": [
    "# Variaveis de destino\n",
    "y = np.where(df['Close'].shift(-1) > df['Close'], 1, 0)\n",
    "y"
   ]
  },
  {
   "cell_type": "code",
   "execution_count": null,
   "id": "39f2040d",
   "metadata": {},
   "outputs": [],
   "source": [
    "split_percentage = 0.8\n",
    "split = int(split_percentage*len(df))\n",
    "  \n",
    "# Treinando o cunjunto de dados\n",
    "X_train = X[:split]\n",
    "y_train = y[:split]\n",
    "  \n",
    "#t Testando o conjunto de dados\n",
    "X_test = X[split:]\n",
    "y_test = y[split:]"
   ]
  },
  {
   "cell_type": "code",
   "execution_count": null,
   "id": "9ebfd616",
   "metadata": {},
   "outputs": [],
   "source": [
    "# Classificador de vetores\n",
    "cls = SVC().fit(X_train, y_train)"
   ]
  },
  {
   "cell_type": "code",
   "execution_count": null,
   "id": "9e3f9eb7",
   "metadata": {},
   "outputs": [],
   "source": [
    "df['Predicted_Signal'] = cls.predict(X)"
   ]
  },
  {
   "cell_type": "code",
   "execution_count": null,
   "id": "244e1c15",
   "metadata": {},
   "outputs": [],
   "source": [
    "# Calculando retornos diarios\n",
    "df['Return'] = df.Close.pct_change()"
   ]
  },
  {
   "cell_type": "code",
   "execution_count": null,
   "id": "d44f547d",
   "metadata": {},
   "outputs": [],
   "source": [
    "# Calculando o retorno \n",
    "df['Strategy_Return'] = df.Return *df.Predicted_Signal.shift(1)"
   ]
  },
  {
   "cell_type": "code",
   "execution_count": null,
   "id": "64d483f0",
   "metadata": {},
   "outputs": [],
   "source": [
    "#  Calculando retornos cuminativos\n",
    "df['Cum_Ret'] = df['Return'].cumsum()\n",
    "df"
   ]
  },
  {
   "cell_type": "code",
   "execution_count": null,
   "id": "dd78007e",
   "metadata": {},
   "outputs": [],
   "source": [
    "# Plot da estrategia de retorno cuminativos\n",
    "df['Cum_Strategy'] = df['Strategy_Return'].cumsum()\n",
    "df"
   ]
  },
  {
   "cell_type": "code",
   "execution_count": null,
   "id": "2064c781",
   "metadata": {},
   "outputs": [],
   "source": [
    "plt.plot(df['Cum_Ret'],color='red')\n",
    "plt.plot(df['Cum_Strategy'],color='blue')"
   ]
  },
  {
   "cell_type": "code",
   "execution_count": null,
   "id": "10ad8286",
   "metadata": {},
   "outputs": [],
   "source": []
  }
 ],
 "metadata": {
  "kernelspec": {
   "display_name": "Python 3 (ipykernel)",
   "language": "python",
   "name": "python3"
  },
  "language_info": {
   "codemirror_mode": {
    "name": "ipython",
    "version": 3
   },
   "file_extension": ".py",
   "mimetype": "text/x-python",
   "name": "python",
   "nbconvert_exporter": "python",
   "pygments_lexer": "ipython3",
   "version": "3.11.4"
  }
 },
 "nbformat": 4,
 "nbformat_minor": 5
}
